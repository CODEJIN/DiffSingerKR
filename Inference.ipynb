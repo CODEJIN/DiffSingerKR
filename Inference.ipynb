{
 "cells": [
  {
   "cell_type": "code",
   "execution_count": null,
   "id": "37fbd791",
   "metadata": {},
   "outputs": [],
   "source": [
    "import os\n",
    "os.environ['CUDA_VISIBLE_DEVICES'] = '0'\n",
    "from Inference.Inference_Exp0005 import Inferencer\n",
    "import IPython.display as ipd"
   ]
  },
  {
   "cell_type": "code",
   "execution_count": null,
   "id": "24f6221c",
   "metadata": {},
   "outputs": [],
   "source": [
    "inferencer = Inferencer(\n",
    "    hp_path= 'Hyper_Parameters.yaml',\n",
    "    checkpoint_path= 'S_200000.pt',\n",
    "    batch_size= 16\n",
    "    )"
   ]
  },
  {
   "cell_type": "code",
   "execution_count": null,
   "id": "a474f27f",
   "metadata": {},
   "outputs": [],
   "source": [
    "durations = [\n",
    "    [0.33,0.16,0.33,0.49,0.33,0.16,0.81,0.33,0.16,0.16,0.33,0.16,0.49,0.16,0.82,0.33,0.16,0.33,0.49,0.33,0.16,0.33,0.49,0.33,0.33,0.16,0.33,1.47,0.33,0.16,0.33,0.49,0.33,0.16,0.81,0.33,0.16,0.16,0.33,0.16,0.49,0.16,0.82,0.33,0.16,0.33,0.16,0.33,0.49,0.16,0.33,0.33,0.33,0.33,0.16,0.33,0.82],\n",
    "    [0.52,0.17,0.35,0.35,0.35,0.35,0.70,0.35,0.35,0.70,0.35,0.35,0.70,0.52,0.17,0.35,0.35,0.35,0.35,0.70,0.35,0.35,0.35,0.35,1.39,],\n",
    "    [0.53,0.52,0.50,0.57,0.58,0.46,0.48,0.50,0.37,0.13,0.43,0.21,0.57,0.43,0.49,1.44,0.26,0.49,0.14,0.13,0.57,0.26,0.06,0.15,0.63,0.26,0.51,0.20,0.48,0.72,0.22,],\n",
    "    ]\n",
    "lyrics = [\n",
    "    ['마','음','울','적','한','날','에','<X>','거','리','를','걸','어','보','고','향','기','로','운','칵','테','일','에','취','해','도','보','고','한','편','의','시','가','있','는','<X>','전','시','회','장','도','가','고','밤','새','도','<X>','록','그','리','움','에','편','질','쓰','고','파',],\n",
    "    ['떴','다','떴','다','비','행','기','날','아','라','날','아','라','높','이','높','이','날','아','라','우','리','비','행','기',],\n",
    "    ['만','나','고','<X>','난','외','로','움','을','<X>','알','았','어','내','겐','<X>','관','심','조','<X>','차','<X>','없','<X>','다','는','걸','<X>','알','면','서',]\n",
    "    ]\n",
    "notes = [\n",
    "    [80,80,80,87,85,84,82,0,84,84,84,85,84,79,79,77,77,77,80,80,78,77,75,77,80,79,80,82,80,80,80,87,85,84,82,0,84,84,84,85,84,79,79,77,77,77,79,80,80,77,75,75,77,80,79,82,80,],\n",
    "    [76,74,72,74,76,76,76,74,74,74,76,79,79,76,74,72,74,76,76,76,74,74,76,74,72,],\n",
    "    [76,78,79,0,71,74,72,71,72,0,71,69,69,71,74,0,79,78,79,0,71,0,74,0,74,72,72,0,71,71,69,]\n",
    "    ]\n",
    "singers = [\n",
    "    'CSD',\n",
    "    'CSD',\n",
    "    'CSD'\n",
    "    ]\n",
    "genres = [\n",
    "    'Children',\n",
    "    'Children',\n",
    "    'Children',\n",
    "    ]\n",
    "\n",
    "notes = [[(x + 0) if x != 0 else 0 for x in xx] for xx in notes]\n",
    "ddim_steps = 100"
   ]
  },
  {
   "cell_type": "code",
   "execution_count": null,
   "id": "563787ee",
   "metadata": {
    "scrolled": true
   },
   "outputs": [],
   "source": [
    "audios = inferencer.Inference_Epoch(\n",
    "    message_times_list= durations,\n",
    "    lyrics= lyrics,\n",
    "    notes= notes,\n",
    "    singers= singers,\n",
    "    genres= genres,\n",
    "    ddim_steps= ddim_steps\n",
    "    )\n",
    "\n",
    "for lyric, singer, genre, audio in zip(lyrics, singers, genres, audios):\n",
    "    print(''.join(lyric).replace('<X>', ' '))\n",
    "    print(singer)\n",
    "    print(genre)\n",
    "    ipd.display(ipd.Audio(audio, rate= inferencer.hp.Sound.Sample_Rate))\n",
    "    print()"
   ]
  }
 ],
 "metadata": {
  "kernelspec": {
   "display_name": "base",
   "language": "python",
   "name": "python3"
  },
  "language_info": {
   "codemirror_mode": {
    "name": "ipython",
    "version": 3
   },
   "file_extension": ".py",
   "mimetype": "text/x-python",
   "name": "python",
   "nbconvert_exporter": "python",
   "pygments_lexer": "ipython3",
   "version": "3.9.12"
  },
  "vscode": {
   "interpreter": {
    "hash": "1a8d98dedf73e076039e7a7173db796f4c00fedf82a57b3950b8ab23892d36d3"
   }
  }
 },
 "nbformat": 4,
 "nbformat_minor": 5
}
